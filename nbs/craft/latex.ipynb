{
 "cells": [
  {
   "cell_type": "markdown",
   "metadata": {},
   "source": [
    "# latex"
   ]
  },
  {
   "cell_type": "markdown",
   "metadata": {},
   "source": [
    "\n\n## Snippets\n\n\n\n- How to embed image\n\n    - Install package and set the directory for images\n\n    ```latex\n\n    \\usepackage{graphicx}\n\n    \\graphicspath{ {./images/} }\n\n    ```\n\n\n\n    - Then, in the body, embed the image by\n\n    ```latex\n\n    \\includegraphics[width=16cm]{image_filename_without_extension}\n\n    ```"
   ]
  }
 ],
 "metadata": {},
 "nbformat": 4,
 "nbformat_minor": 2
}
