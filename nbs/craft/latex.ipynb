{
 "cells": [
  {
   "cell_type": "markdown",
   "metadata": {},
   "source": [
    "# latex"
   ]
  },
  {
   "cell_type": "markdown",
   "metadata": {},
   "source": [
    "## Snippets\n",
    "\n",
    "### Embed image\n",
    "\n",
    "Install package and set the directory for images\n",
    "\n",
    "```latex\n",
    "\n",
    "\\usepackage{graphicx}\n",
    "\\graphicspath{ {./images/} }\n",
    "\n",
    "```\n",
    "\n",
    "Then, in the body, embed the image by\n",
    "\n",
    "```latex\n",
    "\n",
    "\\includegraphics[width=16cm]{image_filename_without_extension}\n",
    "\n",
    "```"
   ]
  },
  {
   "cell_type": "markdown",
   "metadata": {},
   "source": []
  }
 ],
 "metadata": {},
 "nbformat": 4,
 "nbformat_minor": 2
}
