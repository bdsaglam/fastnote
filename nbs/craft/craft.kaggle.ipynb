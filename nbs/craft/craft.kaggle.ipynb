{
 "cells": [
  {
   "cell_type": "markdown",
   "metadata": {},
   "source": [
    "# Kaggle"
   ]
  },
  {
   "cell_type": "markdown",
   "metadata": {},
   "source": [
    "## Recipes\n",
    "\n",
    "### Setup kaggle credentials\n",
    "\n",
    "```sh\n",
    "mkdir ~/.kaggle\n",
    "echo \"{'username':'bdsaglam','key':$kaggle_token}\" > ~/.kaggle/kaggle.json\n",
    "chmod 600 ~/.kaggle/kaggle.json\n",
    "```\n",
    "\n",
    "```py\n",
    "import os\n",
    "from getpass import getpass\n",
    "\n",
    "os.environ['KAGGLE_USERNAME'] = 'bdsaglam'\n",
    "os.environ['KAGGLE_KEY'] = getpass('Kaggle token:')\n",
    "```\n",
    "\n",
    "### Change Kaggle config directory\n",
    "\n",
    "```py\n",
    "import os\n",
    "os.environ['KAGGLE_CONFIG_DIR'] = \"/content/kaggle\"\n",
    "```\n",
    "\n",
    "### Submit predictions\n",
    "\n",
    "```sh\n",
    "kaggle competitions submit -c competition_name -f ./submission.csv -m \"New submission with RF\"\n",
    "```\n",
    "\n",
    "### Use secrets in Kaggle notebooks\n",
    "\n",
    "First, define a secret from add-ons for the notebook; then, retrieve it \n",
    "in the notebook by\n",
    "\n",
    "```py\n",
    "from kaggle_secrets import UserSecretsClient\n",
    "user_secrets = UserSecretsClient()\n",
    "wandb_token = user_secrets.get_secret(\"wandb_toke\")\n",
    "```"
   ]
  },
  {
   "cell_type": "markdown",
   "metadata": {},
   "source": [
    "## My setup"
   ]
  },
  {
   "cell_type": "markdown",
   "metadata": {},
   "source": [
    "```sh\n",
    "!pip install -Uqq fastai nbdev\n",
    "!pip install -Uqq wandb\n",
    "```"
   ]
  },
  {
   "cell_type": "markdown",
   "metadata": {},
   "source": [
    "```py\n",
    "import wandb\n",
    "from getpass import getpass\n",
    "\n",
    "wandb_username = \"bdsaglam\"\n",
    "wandb_token = \"WANDB_TOKEN\"\n",
    "\n",
    "!wandb login --relogin $wandb_token\n",
    "```"
   ]
  },
  {
   "cell_type": "markdown",
   "metadata": {},
   "source": [
    "```py\n",
    "wandb.init(project=\"PROJECT-NAME\", entity=wandb_username)\n",
    "```"
   ]
  },
  {
   "cell_type": "markdown",
   "metadata": {},
   "source": [
    "```py\n",
    "from pathlib import Path\n",
    "\n",
    "import numpy as np\n",
    "import pandas as pd\n",
    "import matplotlib.pyplot as plt\n",
    "\n",
    "import torch.nn as nn\n",
    "from fastai.vision.all import *\n",
    "from fastai.callback.wandb import *\n",
    "```"
   ]
  },
  {
   "cell_type": "markdown",
   "metadata": {},
   "source": [
    "```py\n",
    "wandb.finish()\n",
    "```\n"
   ]
  },
  {
   "cell_type": "markdown",
   "metadata": {},
   "source": [
    "## Resources\n",
    "\n",
    "### Local kaggle env.\n",
    "https://github.com/Witalia008/kaggle-public\n"
   ]
  },
  {
   "cell_type": "code",
   "execution_count": null,
   "metadata": {},
   "outputs": [],
   "source": []
  }
 ],
 "metadata": {},
 "nbformat": 4,
 "nbformat_minor": 2
}
