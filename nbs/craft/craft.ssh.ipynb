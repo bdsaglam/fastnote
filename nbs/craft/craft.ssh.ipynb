{
 "cells": [
  {
   "cell_type": "markdown",
   "metadata": {},
   "source": [
    "# ssh"
   ]
  },
  {
   "cell_type": "markdown",
   "metadata": {},
   "source": [
    "\n\n- Connect to remote server with SSH\n\n\t```sh\n\n\tssh -i \"free-ec2-keys.pem\" ec2-user@ec2-54-88-204-63.compute-1.amazonaws.com\n\n\t```\n\n\n\n- Create configs in `.ssh/config` file for easier use\n\n    ```\n\n    Host myinstance\n\n\t\tHostName ec2-asdf.us-west-2.amazonaws.com\n\n\t\tUser ec2-user\n\n        IdentityFile ~/secrets/key.pem\n\n        Port 12345\n\n    ```\n\n    ```sh\n\n    ssh myinstance\n\n    ```\n\n\n\n- Compress data for all hosts in `.ssh/config` file\n\n    ```\n\n    Host *\n\n        Compression yes\n\n    ```\n\n\n\n- Port forwarding (local:9999-remote:8888)\n\n\t```sh\n\n\tssh -N -L 9999:localhost:8888 <remote_user>@<remote_host>\n\n\t```\n\n\n\n- File transfer with `scp`\n\n\t```sh\n\n\tscp -i \"key.pem\" user@example.com:/folder/file.txt ~/Downloads/\n\n\tscp -i \"free-ec2-keys.pem\" ec2-user@ec2-107-21-199-121.compute-1.amazonaws.com:/data/kitti/depth/train ~/Downloads/\n\n\t```"
   ]
  }
 ],
 "metadata": {},
 "nbformat": 4,
 "nbformat_minor": 2
}
