{
 "cells": [
  {
   "cell_type": "markdown",
   "metadata": {},
   "source": [
    "# vscode"
   ]
  },
  {
   "cell_type": "markdown",
   "metadata": {},
   "source": [
    "\n",
    "\n",
    "## Shortcuts\n",
    "\n",
    "\n",
    "\n",
    "- `cmd+k cmd+s` open keybord shortcuts\n",
    "\n",
    "- `cmd+g` open a file in the project\n",
    "\n",
    "- `cmd+shift+p` open command palette\n",
    "\n",
    "- `cmd+shift+o` or `cmd+g+@` go to symbol\n",
    "\n",
    "- `cmd+shift+.` navigate symbols\n",
    "\n",
    "- `ctrl+space` `option+esc` toggle intellisense suggestions\n",
    "\n",
    "- `shift+u` redo\n",
    "\n",
    "\n",
    "\n",
    "### vim extension\n",
    "\n",
    "\n",
    "\n",
    "- `ctrl+n` `ctrl+p` to navigate suggestions "
   ]
  }
 ],
 "metadata": {},
 "nbformat": 4,
 "nbformat_minor": 2
}
