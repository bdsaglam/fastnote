{
 "cells": [
  {
   "cell_type": "markdown",
   "metadata": {},
   "source": [
    "# miscellaneous"
   ]
  },
  {
   "cell_type": "markdown",
   "metadata": {},
   "source": [
    "\n\n- `option+click` puts cursor with mouse in Terminal/iTerm\n\n\n\n- Change subtitle encoding\n\n    ```sh\n\n    iconv -f CP1254 -t utf-8 ~/Downloads/broken.srt > ~/Downloads/corrected.srt\n\n    ```\n\n\n\n- Download a website with `wget`\n\n    ```sh\n\n    wget -r -np -k url\n\n    ```\n\n\n\n- Python Youtube downloading library `pytube`\n\n    ```sh\n\n    pytube -e mp4 -r 720p https://www.youtube.com/watch?v=0XVI5B2jUSw\n\n    ```\n\n\n\n- Restart Dock\n\n    ```sh\n\n    killall Dock\n\n    ```\n\n\n\n- Change colors of remote terminal\n\n    ```sh\n\n    alias ls=\"ls --color=always\"\n\n    export LS_COLORS=\"di=34:ln=35:so=32:pi=33:ex=31:bd=34;46:cd=34;43:su=30;41:sg=30;46:tw=30;42:ow=30;43\"\n\n    ```\n\n\n\n- Rotate images\n\n    ```sh\n\n    for f in *.jpg ; do \n\n        convert -rotate \"90\" \"$f\" \"../rotated/${f%.jpg}.jpg\"\n\n    done\n\n    ```"
   ]
  }
 ],
 "metadata": {},
 "nbformat": 4,
 "nbformat_minor": 2
}
