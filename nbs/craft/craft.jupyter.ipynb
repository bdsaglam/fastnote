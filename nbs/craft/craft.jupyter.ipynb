{
 "cells": [
  {
   "cell_type": "markdown",
   "metadata": {},
   "source": [
    "# jupyter"
   ]
  },
  {
   "cell_type": "markdown",
   "metadata": {},
   "source": [
    "\n\n## Snippets\n\n\n\n- Install package in Jupyter notebook\n\n    ```py\n\n    import sys\n\n    !{sys.executable} -m pip install h5py --user\n\n    ```"
   ]
  }
 ],
 "metadata": {},
 "nbformat": 4,
 "nbformat_minor": 2
}
