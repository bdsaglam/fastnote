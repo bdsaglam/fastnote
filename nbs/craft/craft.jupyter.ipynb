{
 "cells": [
  {
   "cell_type": "markdown",
   "metadata": {},
   "source": [
    "# jupyter"
   ]
  },
  {
   "cell_type": "markdown",
   "metadata": {},
   "source": [
    "## Recipes\n",
    "\n",
    "### Install package in Jupyter notebook\n",
    "\n",
    "```py\n",
    "import sys\n",
    "!{sys.executable} -m pip install h5py --user\n",
    "```\n",
    "\n",
    "\n",
    "### Auto reload imports\n",
    "```\n",
    "%load_ext autoreload\n",
    "%autoreload 2\n",
    "```"
   ]
  },
  {
   "cell_type": "markdown",
   "metadata": {},
   "source": []
  }
 ],
 "metadata": {},
 "nbformat": 4,
 "nbformat_minor": 2
}
