{
 "cells": [
  {
   "cell_type": "markdown",
   "metadata": {},
   "source": [
    "# pytorch"
   ]
  },
  {
   "cell_type": "markdown",
   "metadata": {},
   "source": [
    "\n\n## Memory\n\n\n\n- Reset CUDA GPU memory\n\n    ```py\n\n    torch.cuda.reset_max_memory_cached()\n\n    torch.cuda.reset_max_memory_allocated()\n\n    torch.cuda.reset_accumulated_memory_stats()\n\n    ```"
   ]
  }
 ],
 "metadata": {},
 "nbformat": 4,
 "nbformat_minor": 2
}
