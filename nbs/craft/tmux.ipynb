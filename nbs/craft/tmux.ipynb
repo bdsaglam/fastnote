{
 "cells": [
  {
   "cell_type": "markdown",
   "metadata": {},
   "source": [
    "# tmux"
   ]
  },
  {
   "cell_type": "markdown",
   "metadata": {},
   "source": [
    "\n\n\n\n## Basic commands\n\n\n\n- list sessions\n\n    ```sh\n\n    tmux ls\n\n    ```\n\n\n\n- start a new session \n\n    ```sh\n\n    tmux new -s session_name\n\n    ```\n\n\n\n- detach from session `<prefix> d`\n\n\n\n- re-attaching to a session\n\n    ```sh\n\n    tmux attach-session -t 0\n\n    ```\n\n\n\n- kill a session\n\n    ```sh\n\n    tmux kill-session -t myname\n\n    ```\n\n\n\n## Working with tmux windows and panes\n\n\n\nWhen you start a new Tmux session, by default, it creates a single window with a shell in it.\n\nTo create a new window with shell type `<prefix> c`, the first available number from the range 0...9 will be assigned to it.\n\nA list of all windows is shown on the status line at the bottom of the screen.\n\n\n\nBelow are some most common commands for managing Tmux windows and panes:\n\n\n\n- Create a new window (with shell) `<prefix> c` \n\n\n\n- Kill a window `<prefix> &`\n\n\n\n- Choose window from a list `<prefix> w`\n\n\n\n- Switch to window 0 (by number ) `<prefix> 0`\n\n\n\n- Rename the current pane `<prefix> ,`\n\n\n\n- Split current pane horizontally into two panes `<prefix> %`\n\n\n\n- Split current pane vertically into two panes `<prefix> \"`\n\n\n\n- Navigate between panes `<prefix> <arrow-key>`\n\n\n\n- Go to the next pane `<prefix> o`\n\n\n\n- Toggle between the current and previous pane `<prefix> ;`\n\n\n\n- Close the current pane `<prefix> x`\n\n\n\n- Switch between layouts `<prefix> space`\n\n\n\n- Copy buffer \n\n    - `<prefix> [` to enter navigation mode, then use arrow keys\n\n    - Press `ctrl+space` to start copying.\n\n    - Use arrow keys to select. Press `alt+w` or `ctrl+w` to copy into tmux buffer.\n\n    - `<prefix> ]` to paste in a possibly different tmux pane/window.\n"
   ]
  }
 ],
 "metadata": {},
 "nbformat": 4,
 "nbformat_minor": 2
}
