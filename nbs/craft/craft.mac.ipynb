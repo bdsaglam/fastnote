{
 "cells": [
  {
   "cell_type": "markdown",
   "metadata": {},
   "source": [
    "# mac"
   ]
  },
  {
   "cell_type": "markdown",
   "metadata": {},
   "source": [
    "\n\n## Settings\n\n\n\n- Disable smart quotes\n\n    - System Preferences > Keyboard > Text\n\n    - Disable curly quotes and anti-symmetric quotes\n\n\n\n- Input source switch shortcut\n\n    - System Preferences > Keyboard > Shortcuts > Input Sources\n\n    - Enable only `Select the previous input source` and change it to `control+option+space`\n\n\n\n- Text replacements (expansions)\n\n    - System Preferences > Keyboard > Shortcuts\n\n    - Drag and drop to export and import text replacements\n\n\n\n- Navigate buttons with tab\n\n    - System Preferences > Keyboard > Shortcuts\n\n    - Enable `Use keyboard navigation to move focus between controls`\n\n    - Define `Move focus to next window` as 'command+`'\n\n\n\n- Show help menu\n\n    - System Preferences > Keyboard > Shortcuts > App shortcuts\n\n    - Change to `command+shift+\\`\n\n\n\n## Shortcuts and commands\n\n\n\n[Mac Keyboard Shortcuts](https://support.apple.com/en-au/HT201236)\n\n\n\n- Take a screen shot\n\n    - `command+shift+3` for entire screen\n\n    - `command+shift+4` to select the box\n\n    - Press `control` while taking screenshot to copy it to clipboard\n\n\n\n- Open task manager\n\n    - `command+option+ESC`\n\n\n\n- Enter full screen (green button)\n\n    - `control+command+f`\n\n\n\n- Get CPU temperature\n\n    ```sh\n\n    sudo powermetrics\n\n    ```\n\n- Open emoji pallet `control+command+space`\n\n\n\n- `control+click` for right click \n\n\n\n- Navigate with keyboard in terminal\n\n    - `fn+up_arrow` page up\n\n    - `fn+down_arrow` page down\n\n    - `command+up_arrow` line up\n\n    - `command+down_arrow` line down\n\n\n\n## Productivity apps\n\n\n\n1. Copyless 2\n\n    - Change shortcuts\n\n    - `option+c` to open window\n\n\n\n2. Spectacle\n\n    - `command+option+<arrow-key>` to make window half of screen\n\n\n\n3. Karabiner Elements\n\n    - Remap keys\n\n\n\n4. iTerm2\n\n    - Preferences -> Profiles\n\n        - create a new profile and make it default\n\n        - Colors -> Color Presents -> Pastel Dark\n\n        - Text -> Cursor -> Box\n\n        - Text -> Font -> Size 13\n"
   ]
  }
 ],
 "metadata": {},
 "nbformat": 4,
 "nbformat_minor": 2
}
