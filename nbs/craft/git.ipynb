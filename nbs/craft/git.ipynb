{
 "cells": [
  {
   "cell_type": "markdown",
   "metadata": {},
   "source": [
    "# git"
   ]
  },
  {
   "cell_type": "markdown",
   "metadata": {},
   "source": [
    "\n\n## Commands\n\n\n\n- Print to stdout instead of less\n\n    ```sh\n\n    git --no-pager branch\n\n    ```\n\n\n\n- Remove any remote-tracking branches which no longer exist on the remote\n\n    ```sh\n\n    git fetch --prune\n\n    ```\n\n\n\n- Show commit changes\n\n\n\n    ```sh\n\n    # last commit\n\n    git show\n\n\n\n    # offset from last commit\n\n    git show HEAD~2\n\n\n\n    git show <commit_hash>\n\n    ```\n\n\n\n- Change last commit's attributes\n\n    ```sh\n\n    git commit --amend --author=\"<name> <email>“\n\n    ```\n\n\n\n- Clone a single branch\n\n    ```sh\n\n    git clone -b mybranch --single-branch https://github.com/user/repo.git\n\n    ```\n\n\n\n- Shallow clone (not full history, saves disk space)\n\n    ```sh\n\n    git clone --depth 1 https://github.com/user/repo.git\n\n    ```\n\n\n\n- Delete a local branch\n\n    ```sh\n\n    git branch -d <branch-name>\n\n    ```\n\n\n\n- Delete a remote branch\n\n    ```sh\n\n    git push origin --delete <branch-name>\n\n    ```\n\n\n\n- Remove (untrack) file after adding .gitignore\n\n    ```sh\n\n    git rm --cached path/to/file\n\n    ```\n\n\n\n- Pre-commit hook\n\n    - Save the following file as `.git/hooks/pre-commit` and make it executable.\n\n\n\n    ```sh\n\n    #!/bin/sh\n\n    if git rev-parse --verify HEAD >/dev/null 2>&1\n\n    then\n\n        against=HEAD\n\n    else\n\n        # Initial commit: diff against an empty tree object\n\n        against=<CHANGE-HERE>\n\n    fi\n\n\n\n    # The special marker tag to mark things which we still need to change\n\n    marker=\"#CRUMB#\"\n\n\n\n    # Redirect output to stderr.\n\n    exec 1>&2\n\n\n\n    if test $(git diff --cached -z $against | grep $marker | wc -c) != 0 \n\n    then\n\n        cat <<\\EOF\n\n        Error: Still has invalid debug markers in code:\n\n    EOF\n\n        echo `git diff --cached -z $against -G $marker`\n\n        exit 1\n\n    fi\n\n    ```"
   ]
  }
 ],
 "metadata": {},
 "nbformat": 4,
 "nbformat_minor": 2
}
