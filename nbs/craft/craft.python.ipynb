{
 "cells": [
  {
   "cell_type": "markdown",
   "metadata": {},
   "source": [
    "# python"
   ]
  },
  {
   "cell_type": "markdown",
   "metadata": {},
   "source": [
    "## Recipes\n",
    "\n",
    "### Get password from user\n",
    "\n",
    "```py\n",
    "from getpass import getpass\n",
    "password = get_pass('password:')\n",
    "```\n",
    "\n",
    "### Show details of an install Python package\n",
    "\n",
    "```py\n",
    "pip show fastai\n",
    "```"
   ]
  },
  {
   "cell_type": "markdown",
   "metadata": {},
   "source": []
  }
 ],
 "metadata": {},
 "nbformat": 4,
 "nbformat_minor": 2
}
