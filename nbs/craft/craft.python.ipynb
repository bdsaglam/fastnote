{
 "cells": [
  {
   "cell_type": "markdown",
   "metadata": {},
   "source": [
    "# python"
   ]
  },
  {
   "cell_type": "markdown",
   "metadata": {},
   "source": [
    "\n\n## Snippets\n\n\n\n- get password from user\n\n    ```py\n\n    from getpass import getpass\n\n    password = get_pass('password:')\n\n    ```\n\n\n\n## pip\n\n\n\n- Show details of an install Python package\n\n    ```py\n\n    pip show fastai\n\n    ```"
   ]
  }
 ],
 "metadata": {},
 "nbformat": 4,
 "nbformat_minor": 2
}
