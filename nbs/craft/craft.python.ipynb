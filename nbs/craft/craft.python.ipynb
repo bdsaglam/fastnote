{
 "cells": [
  {
   "cell_type": "markdown",
   "metadata": {},
   "source": [
    "# python"
   ]
  },
  {
   "cell_type": "markdown",
   "metadata": {},
   "source": [
    "## Recipes\n",
    "\n",
    "### Get password from user\n",
    "\n",
    "```py\n",
    "from getpass import getpass\n",
    "password = get_pass('password:')\n",
    "```\n",
    "\n",
    "### Show details of an install Python package\n",
    "\n",
    "```py\n",
    "pip show fastai\n",
    "```\n",
    "\n",
    "### Find which module an object belongs to (imported from)\n",
    "```py\n",
    "from fastai.vision.all import *\n",
    "Learner.__module__\n",
    "```\n",
    "\n",
    "### Find a module's path\n",
    "```py\n",
    "import sklearn\n",
    "sklearn.model_selection.__file__\n",
    "```\n",
    "\n",
    "### Display images in sequence\n",
    "```py\n",
    "from fastai.vision.all import *\n",
    "from time import sleep\n",
    "from IPython.display import clear_output\n",
    "from random import sample\n",
    "\n",
    "files = get_image_files(directory)\n",
    "for fp in files:\n",
    "    display(Image.create(fp))\n",
    "    clear_output(wait=True)\n",
    "    sleep(0.2)\n",
    "```"
   ]
  },
  {
   "cell_type": "markdown",
   "metadata": {},
   "source": []
  }
 ],
 "metadata": {},
 "nbformat": 4,
 "nbformat_minor": 2
}
