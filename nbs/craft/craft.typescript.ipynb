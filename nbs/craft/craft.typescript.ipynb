{
 "cells": [
  {
   "cell_type": "markdown",
   "metadata": {},
   "source": [
    "# TypeScript"
   ]
  },
  {
   "cell_type": "markdown",
   "metadata": {},
   "source": [
    "## Recipes\n",
    "\n",
    "### Extend a constrained generic type\n",
    "\n",
    "```ts\n",
    "declare global {\n",
    "    interface Array<T extends number> {\n",
    "        sq(): Array<T>;\n",
    "    }\n",
    "}\n",
    "\n",
    "Array.prototype.sq = function () {\n",
    "    return this.map(n => n*n);\n",
    "}\n",
    "\n",
    "let array:Array<number> = [1,2,3];\n",
    "console.log(array.sq());\n",
    "\n",
    "```\n",
    "\n",
    "\n"
   ]
  },
  {
   "cell_type": "markdown",
   "metadata": {},
   "source": [
    "## Concepts\n",
    "\n",
    "### Arrow function vs function expression\n",
    "[Stackoverflow post](https://stackoverflow.com/a/34361380/6641096)\n",
    "\n",
    "Arrow functions don't have their own this or arguments binding. Instead, those identifiers are resolved in the lexical scope like any other variable. That means that inside an arrow function, this and arguments refer to the values of this and arguments in the environment the arrow function is defined in (i.e. \"outside\" the arrow function):\n",
    "\n",
    "In the function expression case, this refers to the object that was created inside the createObject. In the arrow function case, this refers to this of createObject itself.\n",
    "\n",
    "```ts\n",
    "\n",
    "// we want to bind to this when adding new method to a type\n",
    "// hence, using function expression\n",
    "number.prototype.even = function () {\n",
    "    return this % 2 == 0;\n",
    "}\n",
    "\n",
    "// function exp. vs arrow exp.\n",
    "\n",
    "function makeAdder(offset) {\n",
    "    return {\n",
    "        value: offset,\n",
    "        add_func: function (n) {\n",
    "            return this.value + n;\n",
    "        },\n",
    "        add_arrow: (n) => { this.value + n },\n",
    "    }\n",
    "}\n",
    "\n",
    "const adder = makeAdder(10);\n",
    "console.log(adder.add_func(4)); // 14\n",
    "console.log(adder.add_arrow(4)); // undefined\n",
    "\n",
    "```"
   ]
  },
  {
   "cell_type": "markdown",
   "metadata": {},
   "source": []
  }
 ],
 "metadata": {},
 "nbformat": 4,
 "nbformat_minor": 2
}
