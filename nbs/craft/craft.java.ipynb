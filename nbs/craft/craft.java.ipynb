{
 "cells": [
  {
   "cell_type": "markdown",
   "metadata": {},
   "source": [
    "# java"
   ]
  },
  {
   "cell_type": "markdown",
   "metadata": {},
   "source": [
    "## Type system\n",
    "\n",
    "Since Java does not have `Self` keyword for enclosing type as in Swift and \n",
    "\n",
    "generics are implemented with type-erasure in Java, for generic interfaces, we need\n",
    "\n",
    "to provide the types explicitly. This results some odd-looking statements. For instance,\n",
    "\n",
    "```java\n",
    "\n",
    "public interface Comparable<T> {\n",
    "\n",
    "    int compareTo(T t);\n",
    "\n",
    "}\n",
    "\n",
    "\n",
    "\n",
    "class Book implements Comparable<Book> {\n",
    "\n",
    "    String author;\n",
    "\n",
    "    int publishedYear;\n",
    "\n",
    "\n",
    "\n",
    "    int compareTo(Book other) {\n",
    "\n",
    "        return Integer.compare(publishedYear, other.publishedYear);\n",
    "\n",
    "    }\n",
    "\n",
    "}\n",
    "\n",
    "```\n"
   ]
  },
  {
   "cell_type": "markdown",
   "metadata": {},
   "source": []
  }
 ],
 "metadata": {},
 "nbformat": 4,
 "nbformat_minor": 2
}
