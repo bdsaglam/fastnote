{
 "cells": [
  {
   "cell_type": "markdown",
   "metadata": {},
   "source": [
    "# Terminal"
   ]
  },
  {
   "cell_type": "markdown",
   "metadata": {},
   "source": [
    "## Shortcuts\n",
    "\n",
    "- Enter edit-and-execute mode by `ESC+v`\n",
    "\n",
    "- Copy mode\n",
    "\n",
    "  - Enter by `cmd+shift+c`\n",
    "\n",
    "  - Vim bindings\n",
    "\n",
    "\n",
    "## Tools\n",
    "\n",
    "### fzf\n",
    "\n",
    "- Searches with regular expressions such as `.css$` `^text`\n",
    "\n",
    "- `tab` to select one or multiple lines\n",
    "\n",
    "- `**` to trigger\n",
    "\n",
    "    - `cd ./projects/**` \n",
    "\n",
    "- `ctrl+r` find in command history\n",
    "\n",
    "- `ctrl+t` find in current directory\n",
    "\n",
    "- Ignores files according to gitignore by default "
   ]
  },
  {
   "cell_type": "markdown",
   "metadata": {},
   "source": []
  }
 ],
 "metadata": {},
 "nbformat": 4,
 "nbformat_minor": 2
}
