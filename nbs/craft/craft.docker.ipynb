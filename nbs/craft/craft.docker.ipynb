{
 "cells": [
  {
   "cell_type": "markdown",
   "metadata": {},
   "source": [
    "# docker"
   ]
  },
  {
   "cell_type": "markdown",
   "metadata": {},
   "source": [
    "\n\n## Commands\n\n\n\n### Image commands\n\n\n\n```sh\n\ndocker image ls\n\ndocker image rm <image-id>\n\ndocker tag <image> <username/repository:tag>\n\n```\n\n\n\n- Build image\n\n```sh\n\ndocker build --tag <image_name>:<tag> <folder of DOCKERFILE>\n\n```\n\n\n\n- Build image behind firewall\n\n```sh\n\ndocker build --network=host -t <image-name> .\n\n```\n\n\n\n- Run an image\n\n```sh\n\ndocker run -it --rm \\\n\n    -p <host-port>:<container-port> \\ \n\n    -v <host-directory>:<container-directory>  \\\n\n    --name <container-name> \\\n\n    <image> <command>\n\n```\n\n\n\n- Delete all images\n\n```sh\n\ndocker rmi $(docker images -q)\n\n```\n\n\n\n- Push image to docker hub\n\n```sh\n\ndocker tag <local-image>:<tag> <new-repo>:<tag>\n\ndocker push <new-repo>:<tag>\n\n```\n\n\n\n### Container commands\n\n\n\n```sh\n\ndocker container ls -a \n\ndocker ps -a\n\ndocker container start <container-id>\n\ndocker container start -ia <container-id>\n\ndocker container stop <container-id>\n\ndocker container rm <container-id>\n\n```\n\n\n\n- Kill and delete all containers\n\n```sh\n\ndocker rm $(docker ps -a -q)\n\ndocker kill $(docker ps -q)\n\n```\n\n\n\n- Delete all stopped containers\n\n```sh\n\ndocker rm $(docker ps -a -q)\n\n```\n\n\n\n- Start existing container with bash\n\n```sh\n\ndocker container start <container_id>\n\ndocker exec -it <container_id> bash\n\n```\n\n\n\n- Start jupyter notebook in container\n\n```sh\n\njupyter notebook --ip 0.0.0.0 --allow-root --no-browser\n\n```\n\n\n\n- Clean up\n\n```sh\n\ndocker system prune -a\n\n```\n\n\n\n## Resources\n\n\n\n- [Hamel's notes](https://notes.hamel.dev/docs/docker/Docker-In-Action.html#injecting-environment-variables)\n\n- [Dockerfile best practices](https://docs.docker.com/develop/develop-images/dockerfile_best-practices/)\n\n- [Docker development best practices](https://docs.docker.com/develop/dev-best-practices/)"
   ]
  }
 ],
 "metadata": {},
 "nbformat": 4,
 "nbformat_minor": 2
}
