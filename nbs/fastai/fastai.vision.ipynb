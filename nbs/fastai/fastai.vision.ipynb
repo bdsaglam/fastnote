{
 "cells": [
  {
   "cell_type": "markdown",
   "metadata": {},
   "source": [
    "# fastai vision"
   ]
  },
  {
   "cell_type": "markdown",
   "metadata": {},
   "source": [
    "## How to"
   ]
  },
  {
   "cell_type": "markdown",
   "metadata": {},
   "source": [
    "### Resize images\n",
    "\n",
    "Fastai provides a utility function `resize_images` for resizing images in parallel.\n",
    "\n",
    "```py\n",
    "from fastai.vision.utils import resize_images\n",
    "resize_images('/path/to/images', max_size=640, dest='path/to/resized-images', max_worker=2)\n",
    "```"
   ]
  },
  {
   "cell_type": "markdown",
   "metadata": {},
   "source": [
    "### Custom model with `cnn_learner`"
   ]
  },
  {
   "cell_type": "markdown",
   "metadata": {},
   "source": [
    "Find the index of pooling layer to determine `cut` value and then register the model.\n",
    "\n",
    "```py\n",
    "from fastai.vision.all import imagenet_stats, default_split\n",
    "from torchvision.models import efficientnet_b0\n",
    "\n",
    "# register the model meta data\n",
    "model_meta[efficientnet_b0] = {'cut': -2, 'split': default_split, 'stats': imagenet_stats}\n",
    "\n",
    "# verify with Pets dataset\n",
    "path = untar_data(URLs.PETS)\n",
    "files = get_image_files(path/\"images\")\n",
    "def label_func(f): return f[0].isupper()\n",
    "dls = ImageDataLoaders.from_name_func(path, files, label_func, item_tfms=Resize(224))\n",
    "learn = cnn_learner(dls, arch=efficientnet_b0)\n",
    "learn.model\n",
    "```"
   ]
  },
  {
   "cell_type": "markdown",
   "metadata": {},
   "source": []
  }
 ],
 "metadata": {},
 "nbformat": 4,
 "nbformat_minor": 2
}
