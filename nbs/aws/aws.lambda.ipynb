{
 "cells": [
  {
   "cell_type": "markdown",
   "metadata": {},
   "source": [
    "# AWS Lambda"
   ]
  },
  {
   "cell_type": "markdown",
   "metadata": {},
   "source": [
    "## SAM"
   ]
  },
  {
   "cell_type": "markdown",
   "metadata": {},
   "source": [
    "Initialize new project\n",
    "```sh\n",
    "sam init\n",
    "```\n",
    "\n",
    "Build the application\n",
    "```sh\n",
    "sam build\n",
    "```\n",
    "\n",
    "Deploy your application\n",
    "```sh\n",
    "sam deploy --guided\n",
    "```"
   ]
  },
  {
   "cell_type": "markdown",
   "metadata": {},
   "source": [
    "### Testing\n",
    "\n",
    "#### Automated integration test\n",
    "\n",
    "Start a local Lambda endpoint when running integration tests locally or in CI stage.\n",
    "```sh\n",
    "sam local start-lambda\n",
    "```\n",
    "\n",
    "Then, in integration tests, use Lambda endpoint\n",
    "```py\n",
    "import boto3\n",
    "import botocore\n",
    "\n",
    "# Set \"running_locally\" flag if you are running the integration test locally\n",
    "running_locally = True\n",
    "\n",
    "if running_locally:\n",
    "    # Create Lambda SDK client to connect to appropriate Lambda endpoint\n",
    "    lambda_client = boto3.client('lambda',\n",
    "        region_name=\"us-west-2\",\n",
    "        endpoint_url=\"http://127.0.0.1:3001\",\n",
    "        use_ssl=False,\n",
    "        verify=False,\n",
    "        config=botocore.client.Config(\n",
    "            signature_version=botocore.UNSIGNED,\n",
    "            read_timeout=1,\n",
    "            retries={'max_attempts': 0},\n",
    "        )\n",
    "    )\n",
    "else:\n",
    "    lambda_client = boto3.client('lambda')\n",
    "\n",
    "response = lambda_client.invoke(FunctionName=\"HelloWorldFunction\")\n",
    "\n",
    "assert response == \"Hello World\"\n",
    "```\n",
    "\n",
    "#### Invoke lambda directly\n",
    "```\n",
    "sam local invoke \"HelloWorldFunction\" -e events/event.json\n",
    "```\n",
    "\n",
    "#### Use local API Gateway\n",
    "\n",
    "Start the API\n",
    "```\n",
    "sam local start-api\n",
    "```\n",
    "Then, send a request\n",
    "```\n",
    "curl http://127.0.0.1:3000/hello\n",
    "```"
   ]
  },
  {
   "cell_type": "markdown",
   "metadata": {},
   "source": [
    "## Lambda Powertools for Python\n",
    "\n",
    "https://awslabs.github.io/aws-lambda-powertools-python/latest"
   ]
  },
  {
   "cell_type": "markdown",
   "metadata": {},
   "source": []
  }
 ],
 "metadata": {},
 "nbformat": 4,
 "nbformat_minor": 2
}
