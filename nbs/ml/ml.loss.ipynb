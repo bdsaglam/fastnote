{
 "cells": [
  {
   "cell_type": "code",
   "execution_count": null,
   "metadata": {},
   "outputs": [],
   "source": [
    "#default_exp ml.loss"
   ]
  },
  {
   "cell_type": "markdown",
   "metadata": {},
   "source": [
    "# Loss functions"
   ]
  },
  {
   "cell_type": "code",
   "execution_count": null,
   "metadata": {},
   "outputs": [],
   "source": [
    "#hide\n",
    "from fastcore.test import *\n",
    "from nbdev.showdoc import *"
   ]
  },
  {
   "cell_type": "markdown",
   "metadata": {},
   "source": [
    "### Binary focal loss"
   ]
  },
  {
   "cell_type": "markdown",
   "metadata": {},
   "source": [
    "Focal Loss for Dense Object Detection\n",
    "\n",
    "<sup>\n",
    "T.-Y. Lin, P. Goyal, R. Girshick, K. He, and P. Dollar, “Focal loss for dense object detection,” in Proceedings of the IEEE International Conference on Computer Vision (ICCV), Oct 2017.\n",
    "</sup>\n",
    "\n",
    "$$\n",
    "\\begin{equation*}\n",
    "    p_T = \n",
    "    \\begin{cases}\n",
    "        p &\\quad \\text{if y = 1} \\\\\n",
    "        1 - p &\\quad \\text{otherwise}\n",
    "    \\end{cases}\n",
    "\\end{equation*}\n",
    "$$\n",
    "$$\n",
    "\\begin{equation}\n",
    "    \\text{FL}(p_t) = -\\alpha_t (1 - p_t)^{\\gamma}\\log{p_t} \n",
    "\\end{equation}\n",
    "$$\n",
    "\n",
    "<sup>\n",
    "Credit for implementation:\n",
    "https://www.kaggle.com/crissallan/pytorchlightning-efficientnet-focalloss-training\n",
    "</sup>"
   ]
  },
  {
   "cell_type": "code",
   "execution_count": null,
   "metadata": {},
   "outputs": [],
   "source": [
    "#export\n",
    "import torch\n",
    "from torch import nn\n",
    "from fastcore.basics import ifnone\n",
    "\n",
    "class BinaryFocalLoss(nn.Module):\n",
    "    \"\"\"\n",
    "    The focal loss for fighting against class-imbalance\n",
    "    \"\"\"\n",
    "    def __init__(self, alpha=1, gamma=2, weight=None, reduction=torch.mean, thresh=0.5):\n",
    "        super().__init__()\n",
    "        self.alpha = alpha\n",
    "        self.gamma = gamma\n",
    "        self.weight = None if weight is None else torch.tensor([weight], dtype=torch.float, requires_grad=False, device='cuda')\n",
    "        self.reduction = reduction\n",
    "        self.thresh = 0.5\n",
    "        self.eps = 1e-12 # prevent training from Nan-loss error\n",
    "\n",
    "    def forward(self, logits, targets):\n",
    "        \"\"\"\n",
    "        logits & target should be tensors with shape [batch_size, num_classes]\n",
    "        \"\"\"\n",
    "        probs = torch.sigmoid(logits)\n",
    "        log_pt = targets * torch.log(probs + self.eps) + (1.0 - targets) * torch.log(1.0 - probs + self.eps)\n",
    "        focal_loss = -self.alpha * ((1 - torch.exp(log_pt)) ** self.gamma) * log_pt\n",
    "        if self.weight is not None:\n",
    "            focal_loss = focal_loss * self.weight\n",
    "        \n",
    "        reduction = ifnone(self.reduction, lambda x:x)\n",
    "        return reduction(focal_loss)\n",
    "    \n",
    "    def decodes(self, x):    \n",
    "        return x > self.thresh\n",
    "\n",
    "    def activation(self, x): \n",
    "        return torch.sigmoid(x)"
   ]
  },
  {
   "cell_type": "code",
   "execution_count": null,
   "metadata": {},
   "outputs": [],
   "source": [
    "targets = torch.tensor([\n",
    "    [1,0,0,1,0],\n",
    "    [0,0,1,0,1],\n",
    "    [0,1,0,1,0],\n",
    "    [0,0,0,1,1],\n",
    "], dtype=float)\n",
    "\n",
    "logits = torch.tensor([\n",
    "    [1,-1,-1,1,-1],\n",
    "    [-1,-1,1,-1,1],\n",
    "    [-1,1,-1,1,-1],\n",
    "    [-1,-1,-1,1,1],\n",
    "],dtype=float)*1e6\n",
    "\n",
    "# verify BCE results in zero loss with these inputs\n",
    "bce = nn.BCEWithLogitsLoss()\n",
    "test_close(bce(logits, targets).numpy(), 0.0)\n",
    "\n",
    "# test binary focal loss\n",
    "fl = BinaryFocalLoss()\n",
    "activations = fl.activation(logits)\n",
    "\n",
    "test_close(fl(logits, targets).numpy(), 0.0)\n",
    "test_close(activations, targets)\n",
    "test_close(fl.decodes(activations).float(), targets)"
   ]
  },
  {
   "cell_type": "code",
   "execution_count": null,
   "metadata": {},
   "outputs": [
    {
     "data": {
      "text/plain": [
       "[<matplotlib.lines.Line2D at 0x7fa85001e5b0>]"
      ]
     },
     "execution_count": null,
     "metadata": {},
     "output_type": "execute_result"
    },
    {
     "data": {
      "image/png": "[encoded data removed]",
      "text/plain": [
       "<Figure size 432x288 with 1 Axes>"
      ]
     },
     "metadata": {
      "needs_background": "light"
     },
     "output_type": "display_data"
    }
   ],
   "source": [
    "import numpy as np\n",
    "import matplotlib.pyplot as plt\n",
    "\n",
    "logits = torch.rand(targets.shape) * 1e6\n",
    "ps = np.arange(0.2, 1.0, 0.1)\n",
    "losses = np.array([fl(logits, targets*p).numpy() for p in ps])\n",
    "\n",
    "plt.figure()\n",
    "plt.plot(ps, losses)"
   ]
  },
  {
   "cell_type": "code",
   "execution_count": null,
   "metadata": {},
   "outputs": [],
   "source": []
  }
 ],
 "metadata": {
  "kernelspec": {
   "display_name": "Python 3.8.12 ('fastnote')",
   "language": "python",
   "name": "python3"
  }
 },
 "nbformat": 4,
 "nbformat_minor": 2
}
