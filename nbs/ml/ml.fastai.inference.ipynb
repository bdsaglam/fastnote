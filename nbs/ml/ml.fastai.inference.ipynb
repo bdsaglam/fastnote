{
 "cells": [
  {
   "cell_type": "markdown",
   "metadata": {},
   "source": [
    "# fastai inference"
   ]
  },
  {
   "cell_type": "markdown",
   "metadata": {},
   "source": [
    "## Recipes"
   ]
  },
  {
   "cell_type": "markdown",
   "metadata": {},
   "source": [
    "### Load saved model weights\n",
    "\n",
    "```py\n",
    "device = torch.device(\"cuda:0\" if torch.cuda.is_available() else \"cpu\")\n",
    "learn = cnn_learner(\n",
    "    dls, \n",
    "    arch=resnet18,\n",
    "    pretrained=False,\n",
    ")\n",
    "learn.model.load_state_dict(torch.load('path/to/model_weights', map_location=device))\n",
    "```"
   ]
  },
  {
   "cell_type": "markdown",
   "metadata": {},
   "source": []
  }
 ],
 "metadata": {},
 "nbformat": 4,
 "nbformat_minor": 2
}
